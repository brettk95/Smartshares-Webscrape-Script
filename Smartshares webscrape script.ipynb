{
 "cells": [
  {
   "cell_type": "code",
   "execution_count": 1,
   "metadata": {},
   "outputs": [],
   "source": [
    "import requests\n",
    "from bs4 import BeautifulSoup\n",
    "import re\n",
    "import pandas as pd\n",
    "import datetime"
   ]
  },
  {
   "cell_type": "code",
   "execution_count": 4,
   "metadata": {},
   "outputs": [],
   "source": [
    "def create_fundsinfo(website_address):\n",
    "    # url to soup object\n",
    "    soup = BeautifulSoup(requests.get(website_address).content, \"html.parser\")\n",
    "    \n",
    "    # get the column from the html page that we want, and extract the href links for the funds\n",
    "    navigation_col = soup.find(class_ = \"nav-col col-1\")\n",
    "    \n",
    "    dict_ = {}\n",
    "    \n",
    "    for link in navigation_col.find_all('a'):\n",
    "        today = datetime.date.today()\n",
    "        dict_['Date'] = today\n",
    "        \n",
    "        if '#' not in link.get('href'):\n",
    "            fund_title, market_price = get_fund_price(link.get('href'))\n",
    "            if fund_title in dict_.keys():\n",
    "                dict_[fund_title].append(market_price)\n",
    "            else:\n",
    "                dict_[fund_title] = [market_price]\n",
    "                \n",
    "    df = pd.DataFrame(dict_)\n",
    "    export_csv = df.to_csv(r\"C:\\\\Users\\\\Brett\\\\Desktop\\\\fundsinfo.csv\", index = None, header = True)"
   ]
  },
  {
   "cell_type": "code",
   "execution_count": 39,
   "metadata": {},
   "outputs": [],
   "source": [
    "create_fundsinfo('https://smartshares.co.nz/types-of-funds')"
   ]
  },
  {
   "cell_type": "code",
   "execution_count": 5,
   "metadata": {},
   "outputs": [],
   "source": [
    "def get_fund_price(website_address):\n",
    "    # url to soup object\n",
    "    soup = BeautifulSoup(requests.get(website_address).content, 'html.parser')\n",
    "    \n",
    "    # get the name of the fund\n",
    "    fund_title = soup.title.getText()\n",
    "    fund_title = re.search('(.+?)ETF', fund_title)[0]\n",
    "    \n",
    "    # get the fund details\n",
    "    fund = soup.find(class_ = 'container fund-details')\n",
    "    fund_details = fund.find(class_ = 'details')\n",
    "    \n",
    "    # get the market price of the fund\n",
    "    market_price = list(fund_details.children)[3].find(class_ = \"data\").getText()\n",
    "    \n",
    "    return fund_title, float(market_price.replace('$',''))\n",
    "\n",
    "def update_fundsinfo(file_location, website_address):  \n",
    "    ''' use this function after the create_fundsinfo() function to update the fundsinfo.csv file'''\n",
    "    # url to soup object\n",
    "    soup = BeautifulSoup(requests.get(website_address).content, \"html.parser\")\n",
    "    \n",
    "    # get the column from the html page that we want, and extract the href links for the funds\n",
    "    navigation_col = soup.find(class_ = \"nav-col col-1\")\n",
    "    \n",
    "    dict_ = {}\n",
    "    \n",
    "    for link in navigation_col.find_all('a'):\n",
    "        today = datetime.date.today()\n",
    "        dict_['Date'] = today\n",
    "        \n",
    "        if '#' not in link.get('href'):\n",
    "            fund_title, market_price = get_fund_price(link.get('href'))\n",
    "            if fund_title in dict_.keys():\n",
    "                dict_[fund_title].append(market_price)\n",
    "            else:\n",
    "                dict_[fund_title] = [market_price]\n",
    "                \n",
    "    df = pd.DataFrame(dict_)\n",
    "    df.to_csv(file_location, header=False, mode = 'a', index = None)"
   ]
  },
  {
   "cell_type": "code",
   "execution_count": 8,
   "metadata": {},
   "outputs": [],
   "source": [
    "update_fundsinfo(\"C:\\\\Users\\\\Brett\\\\Desktop\\\\fundsinfo.csv\", \"https://smartshares.co.nz/types-of-funds\")"
   ]
  }
 ],
 "metadata": {
  "kernelspec": {
   "display_name": "Python 3",
   "language": "python",
   "name": "python3"
  },
  "language_info": {
   "codemirror_mode": {
    "name": "ipython",
    "version": 3
   },
   "file_extension": ".py",
   "mimetype": "text/x-python",
   "name": "python",
   "nbconvert_exporter": "python",
   "pygments_lexer": "ipython3",
   "version": "3.7.3"
  }
 },
 "nbformat": 4,
 "nbformat_minor": 2
}
